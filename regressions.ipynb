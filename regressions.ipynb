{
  "nbformat": 4,
  "nbformat_minor": 0,
  "metadata": {
    "colab": {
      "name": "regressions.ipynb",
      "provenance": [],
      "include_colab_link": true
    },
    "kernelspec": {
      "name": "python3",
      "display_name": "Python 3"
    },
    "language_info": {
      "name": "python"
    }
  },
  "cells": [
    {
      "cell_type": "markdown",
      "metadata": {
        "id": "view-in-github",
        "colab_type": "text"
      },
      "source": [
        "<a href=\"https://colab.research.google.com/github/anhdang1/stock-correlation-analysis/blob/main/regressions.ipynb\" target=\"_parent\"><img src=\"https://colab.research.google.com/assets/colab-badge.svg\" alt=\"Open In Colab\"/></a>"
      ]
    },
    {
      "cell_type": "markdown",
      "source": [
        "We use the packages numpy, pandas, matplotlib, and sci-kit learn (sklearn) in the code below.\n",
        "We start by importing some of these."
      ],
      "metadata": {
        "id": "CFzDtql4KvSx"
      }
    },
    {
      "cell_type": "code",
      "source": [
        "import numpy as np\n",
        "import pandas as pd\n",
        "import matplotlib.pyplot as plt\n",
        "from pylab import mpl,plt"
      ],
      "metadata": {
        "id": "EXtRcHmW_cxN"
      },
      "execution_count": 71,
      "outputs": []
    },
    {
      "cell_type": "markdown",
      "source": [
        "To run this project, upload the regression_example.csv file, and either choose Runtime: Run All, or run each cell one by one.\n",
        "To perform your group task, see the next text cell."
      ],
      "metadata": {
        "id": "M_KDz4jHygEi"
      }
    },
    {
      "cell_type": "markdown",
      "source": [
        "Next, we import the data from a csv file. We assume the csv file has:\n",
        "   - one row of headers labeling each column\n",
        "   - the last column is the dependent variable y\n",
        "   - the other columns are the independent variables x\n",
        "   - so our regressions are exploring y as a function of x.\n",
        "   - read_csv method from pandas returns a dataframe for us to work with\n",
        "   - [:, :-1]  take all rows, for all except the last column\n",
        "   - that gives us the X matrix\n",
        "   - [:, -1] take all rows, for just the last column\n",
        "   - that gives us the y column"
      ],
      "metadata": {
        "id": "IbJjqOlFK9y-"
      }
    },
    {
      "cell_type": "markdown",
      "source": [
        "Step 1"
      ],
      "metadata": {
        "id": "3ZzjVHHDNNdh"
      }
    },
    {
      "cell_type": "code",
      "source": [
        "dataset = pd.read_csv('regression_example.csv')\n",
        "X = dataset.iloc[:, :-1].values\n",
        "y = dataset.iloc[:, -1].values"
      ],
      "metadata": {
        "id": "gLppv91n0Xfc"
      },
      "execution_count": 56,
      "outputs": []
    },
    {
      "cell_type": "code",
      "source": [
        "print(X)"
      ],
      "metadata": {
        "id": "0CFeBGZe0aJw",
        "outputId": "22a1b1e5-251b-46d4-d4cc-3094d450501b",
        "colab": {
          "base_uri": "https://localhost:8080/"
        }
      },
      "execution_count": 57,
      "outputs": [
        {
          "output_type": "stream",
          "name": "stdout",
          "text": [
            "[[165349.2 136897.8 471784.1 'New York']\n",
            " [162597.7 151377.59 443898.53 'California']\n",
            " [153441.51 101145.55 407934.54 'Florida']\n",
            " [144372.41 118671.85 383199.62 'New York']\n",
            " [142107.34 91391.77 366168.42 'Florida']\n",
            " [131876.9 99814.71 362861.36 'New York']\n",
            " [134615.46 147198.87 127716.82 'California']\n",
            " [130298.13 145530.06 323876.68 'Florida']\n",
            " [120542.52 148718.95 311613.29 'New York']\n",
            " [123334.88 108679.17 304981.62 'California']\n",
            " [101913.08 110594.11 229160.95 'Florida']\n",
            " [100671.96 91790.61 249744.55 'California']\n",
            " [93863.75 127320.38 249839.44 'Florida']\n",
            " [91992.39 135495.07 252664.93 'California']\n",
            " [119943.24 156547.42 256512.92 'Florida']\n",
            " [114523.61 122616.84 261776.23 'New York']\n",
            " [78013.11 121597.55 264346.06 'California']\n",
            " [94657.16 145077.58 282574.31 'New York']\n",
            " [91749.16 114175.79 294919.57 'Florida']\n",
            " [86419.7 153514.11 0.0 'New York']\n",
            " [76253.86 113867.3 298664.47 'California']\n",
            " [78389.47 153773.43 299737.29 'New York']\n",
            " [73994.56 122782.75 303319.26 'Florida']\n",
            " [67532.53 105751.03 304768.73 'Florida']\n",
            " [77044.01 99281.34 140574.81 'New York']\n",
            " [64664.71 139553.16 137962.62 'California']\n",
            " [75328.87 144135.98 134050.07 'Florida']\n",
            " [72107.6 127864.55 353183.81 'New York']\n",
            " [66051.52 182645.56 118148.2 'Florida']\n",
            " [65605.48 153032.06 107138.38 'New York']\n",
            " [61994.48 115641.28 91131.24 'Florida']\n",
            " [61136.38 152701.92 88218.23 'New York']\n",
            " [63408.86 129219.61 46085.25 'California']\n",
            " [55493.95 103057.49 214634.81 'Florida']\n",
            " [46426.07 157693.92 210797.67 'California']\n",
            " [46014.02 85047.44 205517.64 'New York']\n",
            " [28663.76 127056.21 201126.82 'Florida']\n",
            " [44069.95 51283.14 197029.42 'California']\n",
            " [20229.59 65947.93 185265.1 'New York']\n",
            " [38558.51 82982.09 174999.3 'California']\n",
            " [28754.33 118546.05 172795.67 'California']\n",
            " [27892.92 84710.77 164470.71 'Florida']\n",
            " [23640.93 96189.63 148001.11 'California']\n",
            " [15505.73 127382.3 35534.17 'New York']\n",
            " [22177.74 154806.14 28334.72 'California']\n",
            " [1000.23 124153.04 1903.93 'New York']\n",
            " [1315.46 115816.21 297114.46 'Florida']\n",
            " [0.0 135426.92 0.0 'California']\n",
            " [542.05 51743.15 0.0 'New York']\n",
            " [0.0 116983.8 45173.06 'California']]\n"
          ]
        }
      ]
    },
    {
      "cell_type": "markdown",
      "source": [
        "The code below transforms the state column into numeric values. This is one of the standard pre-processing steps in preparing data for analysis and is very easy to do with sklearn. We specify the coding scheme used (OneHotEncoder below), we specify the column number (4th column is #3), we specify the rest of the columns are to be 'passed through' as is.\n",
        "We have three values for state - ny ca and fl, and these are represented using  0 0 1, 1 0 0, 0 1 0; thus replacing state column with three numeric columns, and placing them at the start of X. \n",
        "**This is the Dummy Variables from your stat/econometrics classes, except you don't need to worry about figuring them out. sklearn will do it for you**"
      ],
      "metadata": {
        "id": "GiGROQGzRJ7H"
      }
    },
    {
      "cell_type": "code",
      "source": [
        "from sklearn.compose import ColumnTransformer\n",
        "from sklearn.preprocessing import OneHotEncoder\n",
        "ct = ColumnTransformer(transformers=[('encoder', OneHotEncoder(), [3])], remainder='passthrough')\n",
        "X = np.array(ct.fit_transform(X))"
      ],
      "metadata": {
        "id": "pXO3eKU60hES"
      },
      "execution_count": 58,
      "outputs": []
    },
    {
      "cell_type": "code",
      "source": [
        "print(X)"
      ],
      "metadata": {
        "id": "pDnOINPT0kYS",
        "outputId": "4497387d-dba2-4055-972c-3d33c1cb38ec",
        "colab": {
          "base_uri": "https://localhost:8080/"
        }
      },
      "execution_count": 59,
      "outputs": [
        {
          "output_type": "stream",
          "name": "stdout",
          "text": [
            "[[0.0 0.0 1.0 165349.2 136897.8 471784.1]\n",
            " [1.0 0.0 0.0 162597.7 151377.59 443898.53]\n",
            " [0.0 1.0 0.0 153441.51 101145.55 407934.54]\n",
            " [0.0 0.0 1.0 144372.41 118671.85 383199.62]\n",
            " [0.0 1.0 0.0 142107.34 91391.77 366168.42]\n",
            " [0.0 0.0 1.0 131876.9 99814.71 362861.36]\n",
            " [1.0 0.0 0.0 134615.46 147198.87 127716.82]\n",
            " [0.0 1.0 0.0 130298.13 145530.06 323876.68]\n",
            " [0.0 0.0 1.0 120542.52 148718.95 311613.29]\n",
            " [1.0 0.0 0.0 123334.88 108679.17 304981.62]\n",
            " [0.0 1.0 0.0 101913.08 110594.11 229160.95]\n",
            " [1.0 0.0 0.0 100671.96 91790.61 249744.55]\n",
            " [0.0 1.0 0.0 93863.75 127320.38 249839.44]\n",
            " [1.0 0.0 0.0 91992.39 135495.07 252664.93]\n",
            " [0.0 1.0 0.0 119943.24 156547.42 256512.92]\n",
            " [0.0 0.0 1.0 114523.61 122616.84 261776.23]\n",
            " [1.0 0.0 0.0 78013.11 121597.55 264346.06]\n",
            " [0.0 0.0 1.0 94657.16 145077.58 282574.31]\n",
            " [0.0 1.0 0.0 91749.16 114175.79 294919.57]\n",
            " [0.0 0.0 1.0 86419.7 153514.11 0.0]\n",
            " [1.0 0.0 0.0 76253.86 113867.3 298664.47]\n",
            " [0.0 0.0 1.0 78389.47 153773.43 299737.29]\n",
            " [0.0 1.0 0.0 73994.56 122782.75 303319.26]\n",
            " [0.0 1.0 0.0 67532.53 105751.03 304768.73]\n",
            " [0.0 0.0 1.0 77044.01 99281.34 140574.81]\n",
            " [1.0 0.0 0.0 64664.71 139553.16 137962.62]\n",
            " [0.0 1.0 0.0 75328.87 144135.98 134050.07]\n",
            " [0.0 0.0 1.0 72107.6 127864.55 353183.81]\n",
            " [0.0 1.0 0.0 66051.52 182645.56 118148.2]\n",
            " [0.0 0.0 1.0 65605.48 153032.06 107138.38]\n",
            " [0.0 1.0 0.0 61994.48 115641.28 91131.24]\n",
            " [0.0 0.0 1.0 61136.38 152701.92 88218.23]\n",
            " [1.0 0.0 0.0 63408.86 129219.61 46085.25]\n",
            " [0.0 1.0 0.0 55493.95 103057.49 214634.81]\n",
            " [1.0 0.0 0.0 46426.07 157693.92 210797.67]\n",
            " [0.0 0.0 1.0 46014.02 85047.44 205517.64]\n",
            " [0.0 1.0 0.0 28663.76 127056.21 201126.82]\n",
            " [1.0 0.0 0.0 44069.95 51283.14 197029.42]\n",
            " [0.0 0.0 1.0 20229.59 65947.93 185265.1]\n",
            " [1.0 0.0 0.0 38558.51 82982.09 174999.3]\n",
            " [1.0 0.0 0.0 28754.33 118546.05 172795.67]\n",
            " [0.0 1.0 0.0 27892.92 84710.77 164470.71]\n",
            " [1.0 0.0 0.0 23640.93 96189.63 148001.11]\n",
            " [0.0 0.0 1.0 15505.73 127382.3 35534.17]\n",
            " [1.0 0.0 0.0 22177.74 154806.14 28334.72]\n",
            " [0.0 0.0 1.0 1000.23 124153.04 1903.93]\n",
            " [0.0 1.0 0.0 1315.46 115816.21 297114.46]\n",
            " [1.0 0.0 0.0 0.0 135426.92 0.0]\n",
            " [0.0 0.0 1.0 542.05 51743.15 0.0]\n",
            " [1.0 0.0 0.0 0.0 116983.8 45173.06]]\n"
          ]
        }
      ]
    },
    {
      "cell_type": "markdown",
      "source": [
        "In machine learning, we 'train' our algorithm on one data set, so that it can refine itself till it can predict y for given x values with confidence. The 'machine' 'learns' from data.\n",
        "What we do to also test how well it performs, is to split our data set- a larger set is used for training, and then we use the smaller set for testing.\n",
        "In finance, we would use the same technique for backtesting strategies with past data, before applying them to real world use.\n",
        "The code below does this splitting - X and y into train and test sets. "
      ],
      "metadata": {
        "id": "azHWKmxlMWRr"
      }
    },
    {
      "cell_type": "markdown",
      "source": [
        "Step 2"
      ],
      "metadata": {
        "id": "at-6EcwjNQtw"
      }
    },
    {
      "cell_type": "code",
      "source": [
        "from sklearn.model_selection import train_test_split\n",
        "X_train, X_test, y_train, y_test = train_test_split(X, y, test_size = 0.2, random_state = 0)"
      ],
      "metadata": {
        "id": "HTbNgJLz0lSq"
      },
      "execution_count": 60,
      "outputs": []
    },
    {
      "cell_type": "markdown",
      "source": [
        "The code below creates a linear regression object, and trains it ('fit') using the training set.  **When you try out another kind of regression or analysis, this is the part of code that will change.**  Steps 1 and 2 above will remain the same across almost all of machine learning/AI/deep learning exercises using a data set. "
      ],
      "metadata": {
        "id": "CHW-i9DcNTfN"
      }
    },
    {
      "cell_type": "markdown",
      "source": [
        "Step 3"
      ],
      "metadata": {
        "id": "Nh_gyYJcNzjD"
      }
    },
    {
      "cell_type": "code",
      "source": [
        "from sklearn.linear_model import LinearRegression\n",
        "regressor = LinearRegression()\n",
        "regressor.fit(X_train, y_train)"
      ],
      "metadata": {
        "colab": {
          "base_uri": "https://localhost:8080/"
        },
        "id": "SlfMW-IY0qOT",
        "outputId": "e134c923-7b09-4918-ce38-67b7938d0477"
      },
      "execution_count": 61,
      "outputs": [
        {
          "output_type": "execute_result",
          "data": {
            "text/plain": [
              "LinearRegression()"
            ]
          },
          "metadata": {},
          "execution_count": 61
        }
      ]
    },
    {
      "cell_type": "markdown",
      "source": [
        "Now we use the trained regressor object to predict y values based on the test set made from X. Then we compare the predicted values with the actual y values we have (y_test).\n",
        "Before doing so, we 'reshape' them so that they become columns instead of rows.\n",
        "We combine the two columns into parallel columns (concatenate) so that we can plot and print them side by side.\n",
        "Note this code can remain the same, so long as the 'regressor' variable is available from the previous step."
      ],
      "metadata": {
        "id": "Q1nfqJ_KN2Is"
      }
    },
    {
      "cell_type": "markdown",
      "source": [
        "Step 4"
      ],
      "metadata": {
        "id": "iyEeVhdrTY62"
      }
    },
    {
      "cell_type": "code",
      "source": [
        "y_pred = regressor.predict(X_test)\n",
        "\n",
        "y1 = y_pred.reshape(len(y_pred),1)\n",
        "y2 = y_test.reshape(len(y_test), 1)\n",
        "plt.plot(np.concatenate((y1,y2),1))\n",
        "print(np.concatenate((y1,y2), 1))"
      ],
      "metadata": {
        "id": "7cLokXAD0tsm",
        "colab": {
          "base_uri": "https://localhost:8080/",
          "height": 450
        },
        "outputId": "baa3f498-43e9-4760-9775-b6bcf567fd54"
      },
      "execution_count": 62,
      "outputs": [
        {
          "output_type": "stream",
          "name": "stdout",
          "text": [
            "[[103015.20159795 103282.38      ]\n",
            " [132582.27760816 144259.4       ]\n",
            " [132447.73845175 146121.95      ]\n",
            " [ 71976.09851258  77798.83      ]\n",
            " [178537.48221057 191050.39      ]\n",
            " [116161.24230167 105008.31      ]\n",
            " [ 67851.69209676  81229.06      ]\n",
            " [ 98791.73374687  97483.56      ]\n",
            " [113969.43533014 110352.25      ]\n",
            " [167921.06569552 166187.94      ]]\n"
          ]
        },
        {
          "output_type": "display_data",
          "data": {
            "text/plain": [
              "<Figure size 432x288 with 1 Axes>"
            ],
            "image/png": "[encoded data removed]"
          },
          "metadata": {
            "needs_background": "light"
          }
        }
      ]
    },
    {
      "cell_type": "code",
      "source": [
        "print(y_pred)"
      ],
      "metadata": {
        "id": "Wu3tEBkJ0uzJ",
        "outputId": "b3dd7161-c04f-47ce-eb76-11a3e0e36d2d",
        "colab": {
          "base_uri": "https://localhost:8080/"
        }
      },
      "execution_count": 51,
      "outputs": [
        {
          "output_type": "stream",
          "name": "stdout",
          "text": [
            "[17.35066048  8.03832305 29.26194621 25.72817783 30.72335281 27.95462246\n",
            " 27.90014833 33.99967343 29.47991523 28.3861432   6.9352479  35.02058918\n",
            " 11.72069089 35.19858067 35.68323703 26.68958949  9.39878242 27.79307034\n",
            " 16.04505314 12.23842627 13.16699664 30.88490493  9.44810052 32.24670281\n",
            "  5.71990129 15.2067435  13.0767359  14.49249262  9.07567818 32.73135917\n",
            " 13.27116676 14.36590388 35.37657216 14.20435176 28.07813982 36.89185309\n",
            " 14.16938838 37.21495733 18.52871401  9.73394912 11.41402602 32.21382407\n",
            " 15.77933089 31.14359021 24.09738159 25.10982259  9.72188666 13.1341179\n",
            " 28.29416607 32.60978459 30.86846557 12.77007103 34.03576987 17.69020409\n",
            " 37.05340521  7.86033156 22.64628807 30.82048597 32.52048894 16.28042662\n",
            " 17.33422112 12.25486564 31.03001769  8.52297941 12.07687415 11.20107114\n",
            " 32.1973847  10.53822301 26.85114161 32.35893682 31.06289642  9.5767739\n",
            " 28.53125595 18.7067055  12.30971765 30.98203809 31.22444854 32.68204106\n",
            " 31.38600066 15.06163075 33.89125693 28.13261395 11.09092178 16.22304463\n",
            " 34.43501168 30.99847746 25.41648746 26.94352444 13.12605401 18.69026613\n",
            " 13.97495752 26.83470224 10.86152753 24.77027898 39.53706609 18.57803212\n",
            " 34.12834681 15.99020112  8.91761277 36.85897435 29.40705896 28.22459108\n",
            " 24.06450285 33.60043162  8.50654004 29.64146735 35.6996764  14.51101663\n",
            " 12.09331352 22.6298487  18.45722235 34.05220924 32.30311972 12.14816553\n",
            " 12.36709965 12.47126977 11.70425152 29.7301632  26.86758098 40.18327457\n",
            " 34.40879202 11.00664028 12.06043478 33.90769629 12.39997839 39.98884371\n",
            " 14.29806176 28.06170045 11.36262326 32.82065481 33.55111351 24.78671835\n",
            " 29.56861108 11.18463177 37.16563923  8.9504915  34.27345956 24.80315772\n",
            " 34.23020073 15.36829562 14.79337853 17.81101387 28.32704481  9.12499628\n",
            " 29.11683345 18.85181825 27.84238845 36.53587012 13.18343601 16.09437124\n",
            " 28.38480469 11.55913877 16.20660526 15.771267  ]\n"
          ]
        }
      ]
    },
    {
      "cell_type": "code",
      "source": [
        "print(y_test)"
      ],
      "metadata": {
        "id": "KtliVXp_7_84",
        "outputId": "961d85f2-3713-45c0-b52a-69e39a47c9be",
        "colab": {
          "base_uri": "https://localhost:8080/"
        }
      },
      "execution_count": 63,
      "outputs": [
        {
          "output_type": "stream",
          "name": "stdout",
          "text": [
            "[103282.38 144259.4  146121.95  77798.83 191050.39 105008.31  81229.06\n",
            "  97483.56 110352.25 166187.94]\n"
          ]
        }
      ]
    },
    {
      "cell_type": "markdown",
      "source": [
        "For a specific set of x values, we ask the regressor to predict the y value. \n",
        "If you were adapting this code, you will supply your own values, and you should be careful about two things:\n",
        " -**the double square brackets**\n",
        " -**and, the values you provide must match the x columns in your data set.**"
      ],
      "metadata": {
        "id": "N21ucFCAOmgm"
      }
    },
    {
      "cell_type": "markdown",
      "source": [
        "Step 5"
      ],
      "metadata": {
        "id": "Y8ZGxRDLTvxS"
      }
    },
    {
      "cell_type": "code",
      "source": [
        "print(regressor.predict([[1, 0, 0, 160000, 130000, 300000]]))"
      ],
      "metadata": {
        "id": "Ce4samSE99rZ",
        "outputId": "3711bb4f-4387-4bad-e78f-ee9a85011f12",
        "colab": {
          "base_uri": "https://localhost:8080/"
        }
      },
      "execution_count": 64,
      "outputs": [
        {
          "output_type": "stream",
          "name": "stdout",
          "text": [
            "[181566.92389386]\n"
          ]
        }
      ]
    },
    {
      "cell_type": "markdown",
      "source": [
        "We would like to see the coefficients and intercept of the y = f(x) + k relationship. If we had three x variables x1, x2, x3,   y = ax1 + bx2 + cx3 + k   would have a,b,c as coefficients, and k as the intercept.\n",
        "The code below shows how to get these values printed out."
      ],
      "metadata": {
        "id": "HxhiBKPlOt_0"
      }
    },
    {
      "cell_type": "markdown",
      "source": [
        "Step 6"
      ],
      "metadata": {
        "id": "Z2BZKNz9T2fw"
      }
    },
    {
      "cell_type": "code",
      "source": [
        "print(regressor.coef_)\n",
        "print(regressor.intercept_)"
      ],
      "metadata": {
        "id": "pqFMG3yL-CJv",
        "outputId": "535d9a11-0905-4596-f184-73dd5a42f1ad",
        "colab": {
          "base_uri": "https://localhost:8080/"
        }
      },
      "execution_count": 65,
      "outputs": [
        {
          "output_type": "stream",
          "name": "stdout",
          "text": [
            "[ 8.66383692e+01 -8.72645791e+02  7.86007422e+02  7.73467193e-01\n",
            "  3.28845975e-02  3.66100259e-02]\n",
            "42467.52924853204\n"
          ]
        }
      ]
    },
    {
      "cell_type": "markdown",
      "source": [
        "We can use the r-squared value as a measure of how good our regression is. Note the code below does not depend on anything we did earlier. You can compute the r-squared for any two lists using this code, and nothing needs to be changed here."
      ],
      "metadata": {
        "id": "vpyXnOrBPNxb"
      }
    },
    {
      "cell_type": "markdown",
      "source": [
        "Step 7"
      ],
      "metadata": {
        "id": "O1R7nDlnT5fK"
      }
    },
    {
      "cell_type": "code",
      "source": [
        "from sklearn.metrics import r2_score\n",
        "r2_score(y_test, y_pred)"
      ],
      "metadata": {
        "id": "vzTkR4CwAD3N",
        "outputId": "72077124-0668-4b33-e2d9-ce16482654cf",
        "colab": {
          "base_uri": "https://localhost:8080/"
        }
      },
      "execution_count": 66,
      "outputs": [
        {
          "output_type": "execute_result",
          "data": {
            "text/plain": [
              "0.9347068473282515"
            ]
          },
          "metadata": {},
          "execution_count": 66
        }
      ]
    },
    {
      "cell_type": "markdown",
      "source": [
        "Next, we do a polynomial regression on the same data set. We already have the data set, the only changes happen with the step 3 above (creating a regressor, and fitting it).And that step involves more actions with this kind of regression. In particular, note that X needs to be transformed into X_poly before both training the regressor, and later, before predicting."
      ],
      "metadata": {
        "id": "I3UoKpKDT8MF"
      }
    },
    {
      "cell_type": "markdown",
      "source": [
        "Step 8"
      ],
      "metadata": {
        "id": "72WjYU9pUvGe"
      }
    },
    {
      "cell_type": "code",
      "source": [
        "from sklearn.preprocessing import PolynomialFeatures\n",
        "from sklearn.linear_model import LinearRegression\n",
        "poly_reg = PolynomialFeatures(degree = 4)\n",
        "X_poly = poly_reg.fit_transform(X_train)\n",
        "regressor = LinearRegression()\n",
        "regressor.fit(X_poly, y_train)"
      ],
      "metadata": {
        "colab": {
          "base_uri": "https://localhost:8080/"
        },
        "id": "t_CpRQmXCWIX",
        "outputId": "997494f4-60cc-4a3f-c3e5-f6c93a4c435d"
      },
      "execution_count": 67,
      "outputs": [
        {
          "output_type": "execute_result",
          "data": {
            "text/plain": [
              "LinearRegression()"
            ]
          },
          "metadata": {},
          "execution_count": 67
        }
      ]
    },
    {
      "cell_type": "markdown",
      "source": [
        "Step 9"
      ],
      "metadata": {
        "id": "G_MWcuJVUxdS"
      }
    },
    {
      "cell_type": "code",
      "source": [
        "y_pred = regressor.predict(poly_reg.transform(X_test))"
      ],
      "metadata": {
        "id": "H1U4xSZ2Cbpc"
      },
      "execution_count": 68,
      "outputs": []
    },
    {
      "cell_type": "markdown",
      "source": [
        "Step 10"
      ],
      "metadata": {
        "id": "D00mQA_QU0RF"
      }
    },
    {
      "cell_type": "code",
      "source": [
        "y1 = y_pred.reshape(len(y_pred),1)\n",
        "y2 = y_test.reshape(len(y_test), 1)\n",
        "plt.plot(np.concatenate((y1,y2),1))\n"
      ],
      "metadata": {
        "id": "b7sR9i-ICfsk",
        "outputId": "4f851e06-ce0a-4d4e-d6a9-88e80d191ab7",
        "colab": {
          "base_uri": "https://localhost:8080/",
          "height": 303
        }
      },
      "execution_count": 69,
      "outputs": [
        {
          "output_type": "execute_result",
          "data": {
            "text/plain": [
              "[<matplotlib.lines.Line2D at 0x7f6c5821ec50>,\n",
              " <matplotlib.lines.Line2D at 0x7f6c5821ee90>]"
            ]
          },
          "metadata": {},
          "execution_count": 69
        },
        {
          "output_type": "display_data",
          "data": {
            "text/plain": [
              "<Figure size 432x288 with 1 Axes>"
            ],
            "image/png": "[encoded data removed]"
          },
          "metadata": {
            "needs_background": "light"
          }
        }
      ]
    },
    {
      "cell_type": "markdown",
      "source": [
        "Step 11"
      ],
      "metadata": {
        "id": "j5d6lpqZU7Vz"
      }
    },
    {
      "cell_type": "code",
      "source": [
        "from sklearn.metrics import r2_score\n",
        "r2_score(y_test, y_pred)"
      ],
      "metadata": {
        "id": "vdMsTJ3gClFM",
        "outputId": "520fbae7-a244-4dd6-ff2b-5b196f50b115",
        "colab": {
          "base_uri": "https://localhost:8080/"
        }
      },
      "execution_count": 70,
      "outputs": [
        {
          "output_type": "execute_result",
          "data": {
            "text/plain": [
              "-8.402979412782871"
            ]
          },
          "metadata": {},
          "execution_count": 70
        }
      ]
    },
    {
      "cell_type": "markdown",
      "source": [
        "Question: Which regression works better for this data set?"
      ],
      "metadata": {
        "id": "NGL-wVx-U-DQ"
      }
    },
    {
      "cell_type": "markdown",
      "source": [
        "Answer: The Polynomial Regression"
      ],
      "metadata": {
        "id": "T8QMIey4KmZA"
      }
    }
  ]
}